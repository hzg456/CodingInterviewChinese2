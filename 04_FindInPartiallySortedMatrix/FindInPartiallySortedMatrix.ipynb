{
 "cells": [
  {
   "cell_type": "code",
   "execution_count": 171,
   "metadata": {},
   "outputs": [],
   "source": [
    "# -*- coding:utf-8 -*-\n",
    "class Solution:\n",
    "    # array 二维列表\n",
    "    def Find(self, target, array):\n",
    "        print(\"______________\")\n",
    "        print(array)\n",
    "        \n",
    "        hang=len(array);\n",
    "        if hang==0:\n",
    "            return False\n",
    "        lie=len(array[0]);\n",
    "        if lie==0:\n",
    "            return False\n",
    "        print(hang)\n",
    "        print(lie)\n",
    "                    \n",
    "        if (hang==1&lie==1):\n",
    "            return array[0][0]==target;\n",
    "       \n",
    "        hang_half=int(hang*0.5)-1;\n",
    "        lie_half=int(lie*0.5)-1;\n",
    "        print(hang_half)\n",
    "        print(lie_half)\n",
    "        \n",
    "        print (array[hang_half][lie_half])\n",
    "        if (array[hang_half][lie_half]==target):            \n",
    "            return True;        \n",
    "        elif (array[hang_half][lie_half]<target):\n",
    "            print(\"s111\")\n",
    "            if (self.Find(target,[array[i][0:lie_half+1] for i in range(hang_half+1,hang)])):#左下\n",
    "                print(\"situation 1\")\n",
    "                return True;\n",
    "            elif (self.Find(target,[array[i][lie_half+1:lie] for i in range(0,hang_half+1)])):#右上\n",
    "                print(\"situation 2\")\n",
    "                return True;\n",
    "            elif (self.Find(target,[array[i][lie_half+1:lie] for i in range(hang_half+1,hang)])):#右下\n",
    "                print(\"situation 2\")\n",
    "                return True;   \n",
    "            else:\n",
    "                return False;\n",
    "        else:\n",
    "            print(\"s222\")\n",
    "            #print(array[0:hang][lie_half:lie])\n",
    "            #print(array[hang_half+1:hang][0:lie_half+1])\n",
    "            if (self.Find(target,[array[i][0:lie_half+1] for i in range(0,hang_half+1)])):#左上\n",
    "                print(\"situation 1\")\n",
    "                return True;\n",
    "            elif (self.Find(target,[array[i][0:lie_half+1] for i in range(hang_half+1,hang)])):#左下\n",
    "                print(\"situation 1\")\n",
    "                return True;\n",
    "            elif (self.Find(target,[array[i][lie_half+1:lie] for i in range(0,hang_half+1)])):#右上\n",
    "                print(\"situation 2\")\n",
    "                return True;\n",
    "            else:\n",
    "                return False;          "
   ]
  },
  {
   "cell_type": "code",
   "execution_count": 175,
   "metadata": {},
   "outputs": [],
   "source": [
    "# -*- coding:utf-8 -*-\n",
    "class Solution:\n",
    "    # array 二维列表\n",
    "    def Find(self, target, array):        \n",
    "        hang=len(array);\n",
    "        if hang==0:\n",
    "            return False\n",
    "        lie=len(array[0]);\n",
    "        if lie==0:\n",
    "            return False\n",
    "                    \n",
    "        if (hang==1&lie==1):\n",
    "            return array[0][0]==target;\n",
    "       \n",
    "        hang_half=int(hang*0.5)-1;\n",
    "        lie_half=int(lie*0.5)-1;\n",
    "\n",
    "        if (array[hang_half][lie_half]==target):            \n",
    "            return True;\n",
    "        if (self.Find(target,[array[i][lie_half+1:lie] for i in range(0,hang_half+1)])):#右上\n",
    "            return True;\n",
    "        if (self.Find(target,[array[i][0:lie_half+1] for i in range(hang_half+1,hang)])):#左下\n",
    "            return True;  \n",
    "        if (array[hang_half][lie_half]<target):\n",
    "            return self.Find(target,[array[i][lie_half+1:lie] for i in range(hang_half+1,hang)])#右下 \n",
    "        else:\n",
    "            return self.Find(target,[array[i][0:lie_half+1] for i in range(0,hang_half+1)])#左上 "
   ]
  },
  {
   "cell_type": "code",
   "execution_count": 176,
   "metadata": {},
   "outputs": [],
   "source": [
    "s1=Solution();"
   ]
  },
  {
   "cell_type": "code",
   "execution_count": 177,
   "metadata": {},
   "outputs": [],
   "source": [
    "list=[[]]\n",
    "targe=7"
   ]
  },
  {
   "cell_type": "code",
   "execution_count": 178,
   "metadata": {
    "scrolled": false
   },
   "outputs": [
    {
     "data": {
      "text/plain": [
       "False"
      ]
     },
     "execution_count": 178,
     "metadata": {},
     "output_type": "execute_result"
    }
   ],
   "source": [
    "s1.Find(targe,list)"
   ]
  },
  {
   "cell_type": "code",
   "execution_count": 180,
   "metadata": {},
   "outputs": [
    {
     "data": {
      "text/plain": [
       "0"
      ]
     },
     "execution_count": 180,
     "metadata": {},
     "output_type": "execute_result"
    }
   ],
   "source": [
    "hang=len(list)\n",
    "lie=len(list[0])\n",
    "hang\n",
    "lie"
   ]
  },
  {
   "cell_type": "code",
   "execution_count": 181,
   "metadata": {},
   "outputs": [
    {
     "data": {
      "text/plain": [
       "0"
      ]
     },
     "execution_count": 181,
     "metadata": {},
     "output_type": "execute_result"
    }
   ],
   "source": [
    "lie"
   ]
  },
  {
   "cell_type": "code",
   "execution_count": 185,
   "metadata": {},
   "outputs": [
    {
     "name": "stdout",
     "output_type": "stream",
     "text": [
      "0\n"
     ]
    },
    {
     "ename": "IndexError",
     "evalue": "list index out of range",
     "output_type": "error",
     "traceback": [
      "\u001b[1;31m---------------------------------------------------------------------------\u001b[0m",
      "\u001b[1;31mIndexError\u001b[0m                                Traceback (most recent call last)",
      "\u001b[1;32m<ipython-input-185-ec9fbc8866ca>\u001b[0m in \u001b[0;36m<module>\u001b[1;34m\u001b[0m\n\u001b[0;32m      2\u001b[0m \u001b[0mhang\u001b[0m\u001b[1;33m=\u001b[0m\u001b[0mlen\u001b[0m\u001b[1;33m(\u001b[0m\u001b[0mlist\u001b[0m\u001b[1;33m)\u001b[0m\u001b[1;33m\u001b[0m\u001b[1;33m\u001b[0m\u001b[0m\n\u001b[0;32m      3\u001b[0m \u001b[0mprint\u001b[0m\u001b[1;33m(\u001b[0m\u001b[0mhang\u001b[0m\u001b[1;33m)\u001b[0m\u001b[1;33m\u001b[0m\u001b[1;33m\u001b[0m\u001b[0m\n\u001b[1;32m----> 4\u001b[1;33m \u001b[0mlie\u001b[0m\u001b[1;33m=\u001b[0m\u001b[0mlen\u001b[0m\u001b[1;33m(\u001b[0m\u001b[0mlist\u001b[0m\u001b[1;33m[\u001b[0m\u001b[1;36m0\u001b[0m\u001b[1;33m]\u001b[0m\u001b[1;33m)\u001b[0m\u001b[1;33m\u001b[0m\u001b[1;33m\u001b[0m\u001b[0m\n\u001b[0m\u001b[0;32m      5\u001b[0m \u001b[1;33m\u001b[0m\u001b[0m\n\u001b[0;32m      6\u001b[0m \u001b[0mprint\u001b[0m\u001b[1;33m(\u001b[0m\u001b[0mlie\u001b[0m\u001b[1;33m)\u001b[0m\u001b[1;33m\u001b[0m\u001b[1;33m\u001b[0m\u001b[0m\n",
      "\u001b[1;31mIndexError\u001b[0m: list index out of range"
     ]
    }
   ],
   "source": [
    "list=[]\n",
    "hang=len(list)\n",
    "print(hang)\n",
    "lie=len(list[0])\n",
    "\n",
    "print(lie)"
   ]
  },
  {
   "cell_type": "code",
   "execution_count": 121,
   "metadata": {},
   "outputs": [
    {
     "data": {
      "text/plain": [
       "[[10, 13], [11, 15]]"
      ]
     },
     "execution_count": 121,
     "metadata": {},
     "output_type": "execute_result"
    }
   ],
   "source": [
    "[list2[i][2:4] for i in range(0,2)]"
   ]
  },
  {
   "cell_type": "code",
   "execution_count": null,
   "metadata": {},
   "outputs": [],
   "source": []
  }
 ],
 "metadata": {
  "kernelspec": {
   "display_name": "Python 3",
   "language": "python",
   "name": "python3"
  },
  "language_info": {
   "codemirror_mode": {
    "name": "ipython",
    "version": 3
   },
   "file_extension": ".py",
   "mimetype": "text/x-python",
   "name": "python",
   "nbconvert_exporter": "python",
   "pygments_lexer": "ipython3",
   "version": "3.7.3"
  },
  "varInspector": {
   "cols": {
    "lenName": 16,
    "lenType": 16,
    "lenVar": 40
   },
   "kernels_config": {
    "python": {
     "delete_cmd_postfix": "",
     "delete_cmd_prefix": "del ",
     "library": "var_list.py",
     "varRefreshCmd": "print(var_dic_list())"
    },
    "r": {
     "delete_cmd_postfix": ") ",
     "delete_cmd_prefix": "rm(",
     "library": "var_list.r",
     "varRefreshCmd": "cat(var_dic_list()) "
    }
   },
   "types_to_exclude": [
    "module",
    "function",
    "builtin_function_or_method",
    "instance",
    "_Feature"
   ],
   "window_display": false
  }
 },
 "nbformat": 4,
 "nbformat_minor": 2
}
